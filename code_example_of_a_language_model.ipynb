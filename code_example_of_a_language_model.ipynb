{
  "nbformat": 4,
  "nbformat_minor": 0,
  "metadata": {
    "colab": {
      "name": "code_example_of_a_language_model.ipynb",
      "provenance": [],
      "collapsed_sections": [],
      "authorship_tag": "ABX9TyNzHqstuv+n+8/6ypAuWaiy",
      "include_colab_link": true
    },
    "kernelspec": {
      "name": "python3",
      "display_name": "Python 3"
    }
  },
  "cells": [
    {
      "cell_type": "markdown",
      "metadata": {
        "id": "view-in-github",
        "colab_type": "text"
      },
      "source": [
        "<a href=\"https://colab.research.google.com/github/EverlynAsiko/LSTM_Language_model/blob/main/code_example_of_a_language_model.ipynb\" target=\"_parent\"><img src=\"https://colab.research.google.com/assets/colab-badge.svg\" alt=\"Open In Colab\"/></a>"
      ]
    },
    {
      "cell_type": "markdown",
      "metadata": {
        "id": "aBqqNQdnJeJG"
      },
      "source": [
        "# Code example of text generator\n",
        "Adapted from: https://machinelearningmastery.com/how-to-develop-a-word-level-neural-language-model-in-keras/"
      ]
    },
    {
      "cell_type": "code",
      "metadata": {
        "id": "Zzn2TDE-g3KN"
      },
      "source": [
        "# Importing libraries needed for processing data\n",
        "import numpy as np\n",
        "import string as st\n",
        "import re\n",
        "from keras.preprocessing.text import Tokenizer\n",
        "from keras.utils import np_utils\n",
        "\n",
        "# Libraries needed for model building\n",
        "from keras.models import Sequential\n",
        "from keras.layers import Embedding\n",
        "from keras.layers import LSTM\n",
        "from keras.layers import RNN\n",
        "from keras.layers import Dense\n",
        "from keras.callbacks import ModelCheckpoint"
      ],
      "execution_count": null,
      "outputs": []
    },
    {
      "cell_type": "code",
      "metadata": {
        "colab": {
          "base_uri": "https://localhost:8080/",
          "height": 54
        },
        "id": "sWkWTjfUiV-I",
        "outputId": "22aad84b-5fb7-423b-a384-1863ac1a4ec3"
      },
      "source": [
        "# Initializing text, \"Corpus\"\n",
        "text = \"Students at AIMS have the best time in the world. For ten month, the get to sit and engage with the best minds and challenge their Mathematical thinking. They learn, work and best of all play.\"\n",
        "text"
      ],
      "execution_count": null,
      "outputs": [
        {
          "output_type": "execute_result",
          "data": {
            "application/vnd.google.colaboratory.intrinsic+json": {
              "type": "string"
            },
            "text/plain": [
              "'Students at AIMS have the best time in the world. For ten month, the get to sit and engage with the best minds and challenge their Mathematical thinking. They learn, work and best of all play.'"
            ]
          },
          "metadata": {
            "tags": []
          },
          "execution_count": 2
        }
      ]
    },
    {
      "cell_type": "code",
      "metadata": {
        "colab": {
          "base_uri": "https://localhost:8080/"
        },
        "id": "AgoWptlZj7GO",
        "outputId": "2783a796-6c5a-4293-8b91-b74488f41dd6"
      },
      "source": [
        "# Removing punctuations\n",
        "text = re.sub(r'[^\\w\\s]', '', text) \n",
        "\n",
        "# Splitting the text\n",
        "tokens = text.lower().split()\n",
        "print(tokens)\n",
        "print(len(tokens))"
      ],
      "execution_count": null,
      "outputs": [
        {
          "output_type": "stream",
          "text": [
            "['students', 'at', 'aims', 'have', 'the', 'best', 'time', 'in', 'the', 'world', 'for', 'ten', 'month', 'the', 'get', 'to', 'sit', 'and', 'engage', 'with', 'the', 'best', 'minds', 'and', 'challenge', 'their', 'mathematical', 'thinking', 'they', 'learn', 'work', 'and', 'best', 'of', 'all', 'play']\n",
            "36\n"
          ],
          "name": "stdout"
        }
      ]
    },
    {
      "cell_type": "code",
      "metadata": {
        "colab": {
          "base_uri": "https://localhost:8080/"
        },
        "id": "9Ql-rf5EkMMP",
        "outputId": "c2464548-41fb-448c-9be8-a6835fcbf033"
      },
      "source": [
        "# Splitting into equal sequences\n",
        "length = 5\n",
        "lines = list()\n",
        "for i in range(length, len(tokens)):\n",
        "\t# select sequence of tokens\n",
        "\tseq = tokens[i-length:i]\n",
        "\t# convert into a line\n",
        "\tline = ' '.join(seq)\n",
        "\t# store\n",
        "\tlines.append(line)\n",
        "print('Total Sequences: %d' % len(lines))"
      ],
      "execution_count": null,
      "outputs": [
        {
          "output_type": "stream",
          "text": [
            "Total Sequences: 31\n"
          ],
          "name": "stdout"
        }
      ]
    },
    {
      "cell_type": "code",
      "metadata": {
        "id": "AdVgOmAQkNWf",
        "colab": {
          "base_uri": "https://localhost:8080/"
        },
        "outputId": "02f9aa4a-f90e-4208-ea1a-8549771b2789"
      },
      "source": [
        "# integer encode sequences of words\n",
        "tokenizer = Tokenizer()\n",
        "tokenizer.fit_on_texts(lines)\n",
        "sequences = tokenizer.texts_to_sequences(lines)\n",
        "sequences[0]"
      ],
      "execution_count": null,
      "outputs": [
        {
          "output_type": "execute_result",
          "data": {
            "text/plain": [
              "[27, 25, 24, 23, 1]"
            ]
          },
          "metadata": {
            "tags": []
          },
          "execution_count": 5
        }
      ]
    },
    {
      "cell_type": "code",
      "metadata": {
        "id": "s2kKWJzzy8VV"
      },
      "source": [
        "# vocabulary size\n",
        "vocab_size = len(tokenizer.word_index) + 1"
      ],
      "execution_count": null,
      "outputs": []
    },
    {
      "cell_type": "code",
      "metadata": {
        "id": "RhAgRwBjzK9_"
      },
      "source": [
        "# separate into input and output\n",
        "sequences = np.array(sequences)\n",
        "#X, y = sequences[:,:-1], sequences[:,-1]\n",
        "X, y = sequences,sequences[:,-1]\n",
        "y = np_utils.to_categorical(y, num_classes=vocab_size)\n",
        "seq_length = X.shape[1]"
      ],
      "execution_count": null,
      "outputs": []
    },
    {
      "cell_type": "code",
      "metadata": {
        "id": "Q3UvU-ZXzRf5"
      },
      "source": [
        "# define the LSTM model\n",
        "model = Sequential()\n",
        "model.add(Embedding(vocab_size, 5, input_length=seq_length))\n",
        "model.add(LSTM(10, return_sequences=True))\n",
        "model.add(LSTM(10))\n",
        "model.add(Dense(10, activation='relu'))\n",
        "model.add(Dense(vocab_size, activation='softmax'))\n",
        "# compile model\n",
        "model.compile(loss='categorical_crossentropy', optimizer='adam', metrics=['accuracy'])"
      ],
      "execution_count": null,
      "outputs": []
    },
    {
      "cell_type": "code",
      "metadata": {
        "colab": {
          "base_uri": "https://localhost:8080/"
        },
        "id": "gg5hLBaWzYx0",
        "outputId": "551cbd30-33bf-451a-b3e9-d84a08a80af5"
      },
      "source": [
        "model.summary()"
      ],
      "execution_count": null,
      "outputs": [
        {
          "output_type": "stream",
          "text": [
            "Model: \"sequential\"\n",
            "_________________________________________________________________\n",
            "Layer (type)                 Output Shape              Param #   \n",
            "=================================================================\n",
            "embedding (Embedding)        (None, 5, 5)              145       \n",
            "_________________________________________________________________\n",
            "lstm (LSTM)                  (None, 5, 10)             640       \n",
            "_________________________________________________________________\n",
            "lstm_1 (LSTM)                (None, 10)                840       \n",
            "_________________________________________________________________\n",
            "dense (Dense)                (None, 10)                110       \n",
            "_________________________________________________________________\n",
            "dense_1 (Dense)              (None, 29)                319       \n",
            "=================================================================\n",
            "Total params: 2,054\n",
            "Trainable params: 2,054\n",
            "Non-trainable params: 0\n",
            "_________________________________________________________________\n"
          ],
          "name": "stdout"
        }
      ]
    },
    {
      "cell_type": "code",
      "metadata": {
        "id": "MAjTxQphEh_Q"
      },
      "source": [
        "# model = Sequential()\n",
        "# model.add(Embedding(vocab_size, 1, input_length=seq_length))\n",
        "# model.add(LSTM(3, return_sequences=True))\n",
        "# model.add(LSTM(3))\n",
        "# #model.add(Dense(3, activation='relu'))\n",
        "# model.add(Dense(vocab_size, activation='softmax'))\n",
        "# # compile model\n",
        "# model.compile(loss='categorical_crossentropy', optimizer='adam', metrics=['accuracy'])"
      ],
      "execution_count": null,
      "outputs": []
    },
    {
      "cell_type": "code",
      "metadata": {
        "colab": {
          "base_uri": "https://localhost:8080/"
        },
        "id": "qLSloO6fz-jS",
        "outputId": "616314f5-711f-4323-f18c-a2885c544a55"
      },
      "source": [
        "# fit model\n",
        "model.fit(X, y, batch_size=1, epochs=200, verbose=1)"
      ],
      "execution_count": null,
      "outputs": [
        {
          "output_type": "stream",
          "text": [
            "Epoch 1/200\n",
            "31/31 [==============================] - 3s 4ms/step - loss: 3.3686 - accuracy: 0.0000e+00\n",
            "Epoch 2/200\n",
            "31/31 [==============================] - 0s 4ms/step - loss: 3.3610 - accuracy: 0.0893\n",
            "Epoch 3/200\n",
            "31/31 [==============================] - 0s 4ms/step - loss: 3.3556 - accuracy: 0.0502\n",
            "Epoch 4/200\n",
            "31/31 [==============================] - 0s 4ms/step - loss: 3.3481 - accuracy: 0.0626\n",
            "Epoch 5/200\n",
            "31/31 [==============================] - 0s 5ms/step - loss: 3.3238 - accuracy: 0.0657\n",
            "Epoch 6/200\n",
            "31/31 [==============================] - 0s 4ms/step - loss: 3.3211 - accuracy: 0.0705\n",
            "Epoch 7/200\n",
            "31/31 [==============================] - 0s 4ms/step - loss: 3.3042 - accuracy: 0.0798\n",
            "Epoch 8/200\n",
            "31/31 [==============================] - 0s 5ms/step - loss: 3.2415 - accuracy: 0.0193\n",
            "Epoch 9/200\n",
            "31/31 [==============================] - 0s 4ms/step - loss: 3.1908 - accuracy: 0.0630\n",
            "Epoch 10/200\n",
            "31/31 [==============================] - 0s 5ms/step - loss: 3.0936 - accuracy: 0.1742\n",
            "Epoch 11/200\n",
            "31/31 [==============================] - 0s 4ms/step - loss: 3.0529 - accuracy: 0.0973\n",
            "Epoch 12/200\n",
            "31/31 [==============================] - 0s 5ms/step - loss: 3.1679 - accuracy: 0.0387\n",
            "Epoch 13/200\n",
            "31/31 [==============================] - 0s 5ms/step - loss: 3.0130 - accuracy: 0.1584\n",
            "Epoch 14/200\n",
            "31/31 [==============================] - 0s 5ms/step - loss: 2.9917 - accuracy: 0.0369\n",
            "Epoch 15/200\n",
            "31/31 [==============================] - 0s 4ms/step - loss: 3.0420 - accuracy: 0.0445\n",
            "Epoch 16/200\n",
            "31/31 [==============================] - 0s 4ms/step - loss: 2.9324 - accuracy: 0.0886\n",
            "Epoch 17/200\n",
            "31/31 [==============================] - 0s 4ms/step - loss: 2.9799 - accuracy: 0.0790\n",
            "Epoch 18/200\n",
            "31/31 [==============================] - 0s 4ms/step - loss: 2.7617 - accuracy: 0.1139\n",
            "Epoch 19/200\n",
            "31/31 [==============================] - 0s 5ms/step - loss: 2.9133 - accuracy: 0.1097\n",
            "Epoch 20/200\n",
            "31/31 [==============================] - 0s 5ms/step - loss: 2.7688 - accuracy: 0.1772\n",
            "Epoch 21/200\n",
            "31/31 [==============================] - 0s 4ms/step - loss: 2.7479 - accuracy: 0.1982\n",
            "Epoch 22/200\n",
            "31/31 [==============================] - 0s 4ms/step - loss: 2.5110 - accuracy: 0.2992\n",
            "Epoch 23/200\n",
            "31/31 [==============================] - 0s 4ms/step - loss: 2.7368 - accuracy: 0.1137\n",
            "Epoch 24/200\n",
            "31/31 [==============================] - 0s 4ms/step - loss: 2.8029 - accuracy: 0.0801\n",
            "Epoch 25/200\n",
            "31/31 [==============================] - 0s 5ms/step - loss: 2.5107 - accuracy: 0.1606\n",
            "Epoch 26/200\n",
            "31/31 [==============================] - 0s 5ms/step - loss: 2.6487 - accuracy: 0.1287\n",
            "Epoch 27/200\n",
            "31/31 [==============================] - 0s 4ms/step - loss: 2.6105 - accuracy: 0.1660\n",
            "Epoch 28/200\n",
            "31/31 [==============================] - 0s 4ms/step - loss: 2.2796 - accuracy: 0.2148\n",
            "Epoch 29/200\n",
            "31/31 [==============================] - 0s 4ms/step - loss: 2.4850 - accuracy: 0.1255\n",
            "Epoch 30/200\n",
            "31/31 [==============================] - 0s 5ms/step - loss: 2.3143 - accuracy: 0.1991\n",
            "Epoch 31/200\n",
            "31/31 [==============================] - 0s 4ms/step - loss: 2.2190 - accuracy: 0.1865\n",
            "Epoch 32/200\n",
            "31/31 [==============================] - 0s 5ms/step - loss: 2.4972 - accuracy: 0.1861\n",
            "Epoch 33/200\n",
            "31/31 [==============================] - 0s 5ms/step - loss: 2.4740 - accuracy: 0.0941\n",
            "Epoch 34/200\n",
            "31/31 [==============================] - 0s 4ms/step - loss: 2.4413 - accuracy: 0.0710\n",
            "Epoch 35/200\n",
            "31/31 [==============================] - 0s 5ms/step - loss: 2.4820 - accuracy: 0.1075\n",
            "Epoch 36/200\n",
            "31/31 [==============================] - 0s 4ms/step - loss: 2.3779 - accuracy: 0.1505\n",
            "Epoch 37/200\n",
            "31/31 [==============================] - 0s 5ms/step - loss: 2.4459 - accuracy: 0.0912\n",
            "Epoch 38/200\n",
            "31/31 [==============================] - 0s 5ms/step - loss: 2.6830 - accuracy: 0.1187\n",
            "Epoch 39/200\n",
            "31/31 [==============================] - 0s 4ms/step - loss: 2.0347 - accuracy: 0.2859\n",
            "Epoch 40/200\n",
            "31/31 [==============================] - 0s 5ms/step - loss: 2.1312 - accuracy: 0.2929\n",
            "Epoch 41/200\n",
            "31/31 [==============================] - 0s 4ms/step - loss: 2.2637 - accuracy: 0.1359\n",
            "Epoch 42/200\n",
            "31/31 [==============================] - 0s 5ms/step - loss: 2.1888 - accuracy: 0.1711\n",
            "Epoch 43/200\n",
            "31/31 [==============================] - 0s 5ms/step - loss: 2.2035 - accuracy: 0.1973\n",
            "Epoch 44/200\n",
            "31/31 [==============================] - 0s 5ms/step - loss: 2.2527 - accuracy: 0.1908\n",
            "Epoch 45/200\n",
            "31/31 [==============================] - 0s 5ms/step - loss: 2.3144 - accuracy: 0.1410\n",
            "Epoch 46/200\n",
            "31/31 [==============================] - 0s 5ms/step - loss: 1.9926 - accuracy: 0.2208\n",
            "Epoch 47/200\n",
            "31/31 [==============================] - 0s 5ms/step - loss: 2.0978 - accuracy: 0.2645\n",
            "Epoch 48/200\n",
            "31/31 [==============================] - 0s 5ms/step - loss: 2.2119 - accuracy: 0.1705\n",
            "Epoch 49/200\n",
            "31/31 [==============================] - 0s 5ms/step - loss: 2.3409 - accuracy: 0.1677\n",
            "Epoch 50/200\n",
            "31/31 [==============================] - 0s 5ms/step - loss: 2.0631 - accuracy: 0.2540\n",
            "Epoch 51/200\n",
            "31/31 [==============================] - 0s 4ms/step - loss: 2.3045 - accuracy: 0.0899\n",
            "Epoch 52/200\n",
            "31/31 [==============================] - 0s 5ms/step - loss: 1.9802 - accuracy: 0.3012\n",
            "Epoch 53/200\n",
            "31/31 [==============================] - 0s 5ms/step - loss: 1.9603 - accuracy: 0.3197\n",
            "Epoch 54/200\n",
            "31/31 [==============================] - 0s 5ms/step - loss: 2.0173 - accuracy: 0.1683\n",
            "Epoch 55/200\n",
            "31/31 [==============================] - 0s 4ms/step - loss: 2.1497 - accuracy: 0.1667\n",
            "Epoch 56/200\n",
            "31/31 [==============================] - 0s 4ms/step - loss: 1.9577 - accuracy: 0.3343\n",
            "Epoch 57/200\n",
            "31/31 [==============================] - 0s 4ms/step - loss: 1.7707 - accuracy: 0.3859\n",
            "Epoch 58/200\n",
            "31/31 [==============================] - 0s 4ms/step - loss: 1.8534 - accuracy: 0.3141\n",
            "Epoch 59/200\n",
            "31/31 [==============================] - 0s 4ms/step - loss: 2.0204 - accuracy: 0.3176\n",
            "Epoch 60/200\n",
            "31/31 [==============================] - 0s 5ms/step - loss: 1.9674 - accuracy: 0.2459\n",
            "Epoch 61/200\n",
            "31/31 [==============================] - 0s 5ms/step - loss: 2.0536 - accuracy: 0.2149\n",
            "Epoch 62/200\n",
            "31/31 [==============================] - 0s 5ms/step - loss: 1.6383 - accuracy: 0.3864\n",
            "Epoch 63/200\n",
            "31/31 [==============================] - 0s 4ms/step - loss: 1.8120 - accuracy: 0.4421\n",
            "Epoch 64/200\n",
            "31/31 [==============================] - 0s 5ms/step - loss: 1.8763 - accuracy: 0.2396\n",
            "Epoch 65/200\n",
            "31/31 [==============================] - 0s 5ms/step - loss: 1.9807 - accuracy: 0.3164\n",
            "Epoch 66/200\n",
            "31/31 [==============================] - 0s 4ms/step - loss: 1.9937 - accuracy: 0.2567\n",
            "Epoch 67/200\n",
            "31/31 [==============================] - 0s 4ms/step - loss: 1.8242 - accuracy: 0.4190\n",
            "Epoch 68/200\n",
            "31/31 [==============================] - 0s 5ms/step - loss: 1.6672 - accuracy: 0.5222\n",
            "Epoch 69/200\n",
            "31/31 [==============================] - 0s 4ms/step - loss: 1.8315 - accuracy: 0.3518\n",
            "Epoch 70/200\n",
            "31/31 [==============================] - 0s 4ms/step - loss: 1.6474 - accuracy: 0.5057\n",
            "Epoch 71/200\n",
            "31/31 [==============================] - 0s 4ms/step - loss: 1.6257 - accuracy: 0.4205\n",
            "Epoch 72/200\n",
            "31/31 [==============================] - 0s 4ms/step - loss: 1.7427 - accuracy: 0.4072\n",
            "Epoch 73/200\n",
            "31/31 [==============================] - 0s 5ms/step - loss: 1.5782 - accuracy: 0.4731\n",
            "Epoch 74/200\n",
            "31/31 [==============================] - 0s 5ms/step - loss: 1.7826 - accuracy: 0.2322\n",
            "Epoch 75/200\n",
            "31/31 [==============================] - 0s 4ms/step - loss: 1.6123 - accuracy: 0.3933\n",
            "Epoch 76/200\n",
            "31/31 [==============================] - 0s 5ms/step - loss: 1.6781 - accuracy: 0.3710\n",
            "Epoch 77/200\n",
            "31/31 [==============================] - 0s 4ms/step - loss: 1.6302 - accuracy: 0.4171\n",
            "Epoch 78/200\n",
            "31/31 [==============================] - 0s 4ms/step - loss: 1.7347 - accuracy: 0.4180\n",
            "Epoch 79/200\n",
            "31/31 [==============================] - 0s 4ms/step - loss: 1.8495 - accuracy: 0.2326\n",
            "Epoch 80/200\n",
            "31/31 [==============================] - 0s 4ms/step - loss: 1.6913 - accuracy: 0.4226\n",
            "Epoch 81/200\n",
            "31/31 [==============================] - 0s 5ms/step - loss: 1.5975 - accuracy: 0.4973\n",
            "Epoch 82/200\n",
            "31/31 [==============================] - 0s 6ms/step - loss: 1.6540 - accuracy: 0.3376\n",
            "Epoch 83/200\n",
            "31/31 [==============================] - 0s 5ms/step - loss: 1.5645 - accuracy: 0.4731\n",
            "Epoch 84/200\n",
            "31/31 [==============================] - 0s 4ms/step - loss: 1.6324 - accuracy: 0.3186\n",
            "Epoch 85/200\n",
            "31/31 [==============================] - 0s 4ms/step - loss: 1.5687 - accuracy: 0.4526\n",
            "Epoch 86/200\n",
            "31/31 [==============================] - 0s 4ms/step - loss: 1.3986 - accuracy: 0.5458\n",
            "Epoch 87/200\n",
            "31/31 [==============================] - 0s 4ms/step - loss: 1.5757 - accuracy: 0.3591\n",
            "Epoch 88/200\n",
            "31/31 [==============================] - 0s 5ms/step - loss: 1.5394 - accuracy: 0.5116\n",
            "Epoch 89/200\n",
            "31/31 [==============================] - 0s 4ms/step - loss: 1.4748 - accuracy: 0.4828\n",
            "Epoch 90/200\n",
            "31/31 [==============================] - 0s 4ms/step - loss: 1.5215 - accuracy: 0.4359\n",
            "Epoch 91/200\n",
            "31/31 [==============================] - 0s 4ms/step - loss: 1.6225 - accuracy: 0.5214\n",
            "Epoch 92/200\n",
            "31/31 [==============================] - 0s 4ms/step - loss: 1.5099 - accuracy: 0.6133\n",
            "Epoch 93/200\n",
            "31/31 [==============================] - 0s 5ms/step - loss: 1.5401 - accuracy: 0.5160\n",
            "Epoch 94/200\n",
            "31/31 [==============================] - 0s 4ms/step - loss: 1.5539 - accuracy: 0.4356\n",
            "Epoch 95/200\n",
            "31/31 [==============================] - 0s 4ms/step - loss: 1.5337 - accuracy: 0.5054\n",
            "Epoch 96/200\n",
            "31/31 [==============================] - 0s 5ms/step - loss: 1.5629 - accuracy: 0.4260\n",
            "Epoch 97/200\n",
            "31/31 [==============================] - 0s 4ms/step - loss: 1.4629 - accuracy: 0.4050\n",
            "Epoch 98/200\n",
            "31/31 [==============================] - 0s 5ms/step - loss: 1.6100 - accuracy: 0.5048\n",
            "Epoch 99/200\n",
            "31/31 [==============================] - 0s 4ms/step - loss: 1.5618 - accuracy: 0.3545\n",
            "Epoch 100/200\n",
            "31/31 [==============================] - 0s 5ms/step - loss: 1.5046 - accuracy: 0.4384\n",
            "Epoch 101/200\n",
            "31/31 [==============================] - 0s 5ms/step - loss: 1.3579 - accuracy: 0.4940\n",
            "Epoch 102/200\n",
            "31/31 [==============================] - 0s 4ms/step - loss: 1.4636 - accuracy: 0.5746\n",
            "Epoch 103/200\n",
            "31/31 [==============================] - 0s 5ms/step - loss: 1.7522 - accuracy: 0.3430\n",
            "Epoch 104/200\n",
            "31/31 [==============================] - 0s 4ms/step - loss: 1.5784 - accuracy: 0.3632\n",
            "Epoch 105/200\n",
            "31/31 [==============================] - 0s 4ms/step - loss: 1.4558 - accuracy: 0.5824\n",
            "Epoch 106/200\n",
            "31/31 [==============================] - 0s 4ms/step - loss: 1.3065 - accuracy: 0.6082\n",
            "Epoch 107/200\n",
            "31/31 [==============================] - 0s 4ms/step - loss: 1.3627 - accuracy: 0.4190\n",
            "Epoch 108/200\n",
            "31/31 [==============================] - 0s 4ms/step - loss: 1.2877 - accuracy: 0.6671\n",
            "Epoch 109/200\n",
            "31/31 [==============================] - 0s 4ms/step - loss: 1.3205 - accuracy: 0.6002\n",
            "Epoch 110/200\n",
            "31/31 [==============================] - 0s 5ms/step - loss: 1.4316 - accuracy: 0.3599\n",
            "Epoch 111/200\n",
            "31/31 [==============================] - 0s 5ms/step - loss: 1.3970 - accuracy: 0.5234\n",
            "Epoch 112/200\n",
            "31/31 [==============================] - 0s 5ms/step - loss: 1.4500 - accuracy: 0.3438\n",
            "Epoch 113/200\n",
            "31/31 [==============================] - 0s 4ms/step - loss: 1.4375 - accuracy: 0.4638\n",
            "Epoch 114/200\n",
            "31/31 [==============================] - 0s 5ms/step - loss: 1.5432 - accuracy: 0.3290\n",
            "Epoch 115/200\n",
            "31/31 [==============================] - 0s 5ms/step - loss: 1.3265 - accuracy: 0.4735\n",
            "Epoch 116/200\n",
            "31/31 [==============================] - 0s 5ms/step - loss: 1.3817 - accuracy: 0.5514\n",
            "Epoch 117/200\n",
            "31/31 [==============================] - 0s 5ms/step - loss: 1.2919 - accuracy: 0.5105\n",
            "Epoch 118/200\n",
            "31/31 [==============================] - 0s 4ms/step - loss: 1.2858 - accuracy: 0.7369\n",
            "Epoch 119/200\n",
            "31/31 [==============================] - 0s 4ms/step - loss: 1.4052 - accuracy: 0.3936\n",
            "Epoch 120/200\n",
            "31/31 [==============================] - 0s 4ms/step - loss: 1.3392 - accuracy: 0.5626\n",
            "Epoch 121/200\n",
            "31/31 [==============================] - 0s 5ms/step - loss: 1.2278 - accuracy: 0.5574\n",
            "Epoch 122/200\n",
            "31/31 [==============================] - 0s 4ms/step - loss: 1.4339 - accuracy: 0.6391\n",
            "Epoch 123/200\n",
            "31/31 [==============================] - 0s 4ms/step - loss: 1.4911 - accuracy: 0.5671\n",
            "Epoch 124/200\n",
            "31/31 [==============================] - 0s 4ms/step - loss: 1.2714 - accuracy: 0.6435\n",
            "Epoch 125/200\n",
            "31/31 [==============================] - 0s 4ms/step - loss: 1.4992 - accuracy: 0.4157\n",
            "Epoch 126/200\n",
            "31/31 [==============================] - 0s 4ms/step - loss: 1.2598 - accuracy: 0.6413\n",
            "Epoch 127/200\n",
            "31/31 [==============================] - 0s 4ms/step - loss: 1.1577 - accuracy: 0.6920\n",
            "Epoch 128/200\n",
            "31/31 [==============================] - 0s 4ms/step - loss: 1.3240 - accuracy: 0.3580\n",
            "Epoch 129/200\n",
            "31/31 [==============================] - 0s 4ms/step - loss: 1.2831 - accuracy: 0.5321\n",
            "Epoch 130/200\n",
            "31/31 [==============================] - 0s 5ms/step - loss: 1.3459 - accuracy: 0.5814\n",
            "Epoch 131/200\n",
            "31/31 [==============================] - 0s 4ms/step - loss: 1.1961 - accuracy: 0.6520\n",
            "Epoch 132/200\n",
            "31/31 [==============================] - 0s 4ms/step - loss: 1.2838 - accuracy: 0.6547\n",
            "Epoch 133/200\n",
            "31/31 [==============================] - 0s 5ms/step - loss: 1.1341 - accuracy: 0.7509\n",
            "Epoch 134/200\n",
            "31/31 [==============================] - 0s 4ms/step - loss: 1.1433 - accuracy: 0.6588\n",
            "Epoch 135/200\n",
            "31/31 [==============================] - 0s 5ms/step - loss: 1.2469 - accuracy: 0.7118\n",
            "Epoch 136/200\n",
            "31/31 [==============================] - 0s 4ms/step - loss: 1.2216 - accuracy: 0.5837\n",
            "Epoch 137/200\n",
            "31/31 [==============================] - 0s 4ms/step - loss: 1.2036 - accuracy: 0.5810\n",
            "Epoch 138/200\n",
            "31/31 [==============================] - 0s 4ms/step - loss: 1.1251 - accuracy: 0.7383\n",
            "Epoch 139/200\n",
            "31/31 [==============================] - 0s 5ms/step - loss: 1.1155 - accuracy: 0.7049\n",
            "Epoch 140/200\n",
            "31/31 [==============================] - 0s 5ms/step - loss: 1.1334 - accuracy: 0.6953\n",
            "Epoch 141/200\n",
            "31/31 [==============================] - 0s 4ms/step - loss: 1.1866 - accuracy: 0.8175\n",
            "Epoch 142/200\n",
            "31/31 [==============================] - 0s 4ms/step - loss: 1.1790 - accuracy: 0.5247\n",
            "Epoch 143/200\n",
            "31/31 [==============================] - 0s 4ms/step - loss: 1.0761 - accuracy: 0.7649\n",
            "Epoch 144/200\n",
            "31/31 [==============================] - 0s 5ms/step - loss: 1.1456 - accuracy: 0.6534\n",
            "Epoch 145/200\n",
            "31/31 [==============================] - 0s 5ms/step - loss: 1.1544 - accuracy: 0.6669\n",
            "Epoch 146/200\n",
            "31/31 [==============================] - 0s 5ms/step - loss: 1.0284 - accuracy: 0.8389\n",
            "Epoch 147/200\n",
            "31/31 [==============================] - 0s 5ms/step - loss: 1.1952 - accuracy: 0.5674\n",
            "Epoch 148/200\n",
            "31/31 [==============================] - 0s 4ms/step - loss: 1.1866 - accuracy: 0.7307\n",
            "Epoch 149/200\n",
            "31/31 [==============================] - 0s 4ms/step - loss: 1.1371 - accuracy: 0.6785\n",
            "Epoch 150/200\n",
            "31/31 [==============================] - 0s 4ms/step - loss: 1.0832 - accuracy: 0.6424\n",
            "Epoch 151/200\n",
            "31/31 [==============================] - 0s 4ms/step - loss: 0.9471 - accuracy: 0.8082\n",
            "Epoch 152/200\n",
            "31/31 [==============================] - 0s 4ms/step - loss: 1.0197 - accuracy: 0.6733\n",
            "Epoch 153/200\n",
            "31/31 [==============================] - 0s 4ms/step - loss: 1.1047 - accuracy: 0.7044\n",
            "Epoch 154/200\n",
            "31/31 [==============================] - 0s 4ms/step - loss: 1.1860 - accuracy: 0.6237\n",
            "Epoch 155/200\n",
            "31/31 [==============================] - 0s 5ms/step - loss: 1.0327 - accuracy: 0.7484\n",
            "Epoch 156/200\n",
            "31/31 [==============================] - 0s 4ms/step - loss: 1.0767 - accuracy: 0.7311\n",
            "Epoch 157/200\n",
            "31/31 [==============================] - 0s 5ms/step - loss: 0.9464 - accuracy: 0.7672\n",
            "Epoch 158/200\n",
            "31/31 [==============================] - 0s 4ms/step - loss: 1.0753 - accuracy: 0.7144\n",
            "Epoch 159/200\n",
            "31/31 [==============================] - 0s 4ms/step - loss: 1.0098 - accuracy: 0.7216\n",
            "Epoch 160/200\n",
            "31/31 [==============================] - 0s 5ms/step - loss: 1.0361 - accuracy: 0.6828\n",
            "Epoch 161/200\n",
            "31/31 [==============================] - 0s 4ms/step - loss: 1.0140 - accuracy: 0.6530\n",
            "Epoch 162/200\n",
            "31/31 [==============================] - 0s 4ms/step - loss: 0.8620 - accuracy: 0.7486\n",
            "Epoch 163/200\n",
            "31/31 [==============================] - 0s 4ms/step - loss: 0.8928 - accuracy: 0.7989\n",
            "Epoch 164/200\n",
            "31/31 [==============================] - 0s 4ms/step - loss: 0.9422 - accuracy: 0.7388\n",
            "Epoch 165/200\n",
            "31/31 [==============================] - 0s 4ms/step - loss: 0.9499 - accuracy: 0.8087\n",
            "Epoch 166/200\n",
            "31/31 [==============================] - 0s 5ms/step - loss: 0.9179 - accuracy: 0.7882\n",
            "Epoch 167/200\n",
            "31/31 [==============================] - 0s 4ms/step - loss: 0.8887 - accuracy: 0.7789\n",
            "Epoch 168/200\n",
            "31/31 [==============================] - 0s 4ms/step - loss: 0.8965 - accuracy: 0.7970\n",
            "Epoch 169/200\n",
            "31/31 [==============================] - 0s 4ms/step - loss: 0.8114 - accuracy: 0.8238\n",
            "Epoch 170/200\n",
            "31/31 [==============================] - 0s 5ms/step - loss: 0.8585 - accuracy: 0.7178\n",
            "Epoch 171/200\n",
            "31/31 [==============================] - 0s 4ms/step - loss: 1.0907 - accuracy: 0.6837\n",
            "Epoch 172/200\n",
            "31/31 [==============================] - 0s 4ms/step - loss: 0.9253 - accuracy: 0.6704\n",
            "Epoch 173/200\n",
            "31/31 [==============================] - 0s 4ms/step - loss: 0.8942 - accuracy: 0.8218\n",
            "Epoch 174/200\n",
            "31/31 [==============================] - 0s 4ms/step - loss: 0.8533 - accuracy: 0.8858\n",
            "Epoch 175/200\n",
            "31/31 [==============================] - 0s 4ms/step - loss: 0.8781 - accuracy: 0.7471\n",
            "Epoch 176/200\n",
            "31/31 [==============================] - 0s 4ms/step - loss: 0.8828 - accuracy: 0.6821\n",
            "Epoch 177/200\n",
            "31/31 [==============================] - 0s 4ms/step - loss: 0.8105 - accuracy: 0.7517\n",
            "Epoch 178/200\n",
            "31/31 [==============================] - 0s 4ms/step - loss: 0.7888 - accuracy: 0.8362\n",
            "Epoch 179/200\n",
            "31/31 [==============================] - 0s 4ms/step - loss: 0.9311 - accuracy: 0.6557\n",
            "Epoch 180/200\n",
            "31/31 [==============================] - 0s 5ms/step - loss: 0.8744 - accuracy: 0.7710\n",
            "Epoch 181/200\n",
            "31/31 [==============================] - 0s 4ms/step - loss: 0.7987 - accuracy: 0.8130\n",
            "Epoch 182/200\n",
            "31/31 [==============================] - 0s 5ms/step - loss: 0.7364 - accuracy: 0.8530\n",
            "Epoch 183/200\n",
            "31/31 [==============================] - 0s 4ms/step - loss: 0.7224 - accuracy: 0.8524\n",
            "Epoch 184/200\n",
            "31/31 [==============================] - 0s 4ms/step - loss: 0.7744 - accuracy: 0.7733\n",
            "Epoch 185/200\n",
            "31/31 [==============================] - 0s 4ms/step - loss: 0.8096 - accuracy: 0.8091\n",
            "Epoch 186/200\n",
            "31/31 [==============================] - 0s 4ms/step - loss: 0.8277 - accuracy: 0.6569\n",
            "Epoch 187/200\n",
            "31/31 [==============================] - 0s 5ms/step - loss: 0.8970 - accuracy: 0.5807\n",
            "Epoch 188/200\n",
            "31/31 [==============================] - 0s 4ms/step - loss: 0.8069 - accuracy: 0.7241\n",
            "Epoch 189/200\n",
            "31/31 [==============================] - 0s 4ms/step - loss: 0.7632 - accuracy: 0.6800\n",
            "Epoch 190/200\n",
            "31/31 [==============================] - 0s 4ms/step - loss: 0.7834 - accuracy: 0.7288\n",
            "Epoch 191/200\n",
            "31/31 [==============================] - 0s 4ms/step - loss: 0.6812 - accuracy: 0.8142\n",
            "Epoch 192/200\n",
            "31/31 [==============================] - 0s 4ms/step - loss: 0.7830 - accuracy: 0.6680\n",
            "Epoch 193/200\n",
            "31/31 [==============================] - 0s 4ms/step - loss: 0.7274 - accuracy: 0.8059\n",
            "Epoch 194/200\n",
            "31/31 [==============================] - 0s 4ms/step - loss: 0.6951 - accuracy: 0.7938\n",
            "Epoch 195/200\n",
            "31/31 [==============================] - 0s 4ms/step - loss: 0.8185 - accuracy: 0.7275\n",
            "Epoch 196/200\n",
            "31/31 [==============================] - 0s 4ms/step - loss: 0.8145 - accuracy: 0.7710\n",
            "Epoch 197/200\n",
            "31/31 [==============================] - 0s 5ms/step - loss: 0.6574 - accuracy: 0.8546\n",
            "Epoch 198/200\n",
            "31/31 [==============================] - 0s 4ms/step - loss: 0.8706 - accuracy: 0.6257\n",
            "Epoch 199/200\n",
            "31/31 [==============================] - 0s 4ms/step - loss: 0.7647 - accuracy: 0.8223\n",
            "Epoch 200/200\n",
            "31/31 [==============================] - 0s 4ms/step - loss: 0.6796 - accuracy: 0.7863\n"
          ],
          "name": "stdout"
        },
        {
          "output_type": "execute_result",
          "data": {
            "text/plain": [
              "<tensorflow.python.keras.callbacks.History at 0x7f2cda525590>"
            ]
          },
          "metadata": {
            "tags": []
          },
          "execution_count": 10
        }
      ]
    },
    {
      "cell_type": "code",
      "metadata": {
        "id": "JL5gymybC6B0"
      },
      "source": [
        "# save the model to file\n",
        "model.save('model.h5')\n",
        "# save the tokenizer\n",
        "import pickle\n",
        "\n",
        "# saving\n",
        "with open('tokenizer.pickle', 'wb') as handle:\n",
        "    pickle.dump(tokenizer, handle, protocol=pickle.HIGHEST_PROTOCOL)"
      ],
      "execution_count": null,
      "outputs": []
    },
    {
      "cell_type": "code",
      "metadata": {
        "id": "vXlN3JU9GLRv"
      },
      "source": [
        "# load the model\n",
        "from keras.models import load_model\n",
        "model = load_model('model.h5')\n",
        "\n",
        "# loading\n",
        "with open('tokenizer.pickle', 'rb') as handle:\n",
        "    tokenizer = pickle.load(handle)"
      ],
      "execution_count": null,
      "outputs": []
    },
    {
      "cell_type": "code",
      "metadata": {
        "colab": {
          "base_uri": "https://localhost:8080/"
        },
        "id": "N8PLMFmSGfNg",
        "outputId": "6c224834-556b-4fe3-f586-68ea5e0da82d"
      },
      "source": [
        "# select a seed text\n",
        "seed_text = lines[np.random.randint(0,len(lines))]\n",
        "print(seed_text + '\\n')"
      ],
      "execution_count": null,
      "outputs": [
        {
          "output_type": "stream",
          "text": [
            "time in the world for\n",
            "\n"
          ],
          "name": "stdout"
        }
      ]
    },
    {
      "cell_type": "code",
      "metadata": {
        "id": "vb9OQoiFGqHm",
        "colab": {
          "base_uri": "https://localhost:8080/"
        },
        "outputId": "82ef61e9-7da5-4c6a-bf48-73085783ff8e"
      },
      "source": [
        "seq_length = len(lines[0].split()) - 1\n",
        "seq_length"
      ],
      "execution_count": null,
      "outputs": [
        {
          "output_type": "execute_result",
          "data": {
            "text/plain": [
              "4"
            ]
          },
          "metadata": {
            "tags": []
          },
          "execution_count": 12
        }
      ]
    },
    {
      "cell_type": "code",
      "metadata": {
        "id": "Um5AfkTyG2C3",
        "colab": {
          "base_uri": "https://localhost:8080/"
        },
        "outputId": "21ec0a2d-1e6a-4d79-f08d-b5aad3f37b1e"
      },
      "source": [
        "# encode the text as integer\n",
        "encoded = tokenizer.texts_to_sequences([seed_text])[0]\n",
        "\n",
        "from keras.preprocessing.sequence import pad_sequences\n",
        "encoded = pad_sequences([encoded], maxlen=seq_length, truncating='pre')\n",
        "encoded"
      ],
      "execution_count": null,
      "outputs": [
        {
          "output_type": "execute_result",
          "data": {
            "text/plain": [
              "array([[5, 1, 6, 7]], dtype=int32)"
            ]
          },
          "metadata": {
            "tags": []
          },
          "execution_count": 13
        }
      ]
    },
    {
      "cell_type": "code",
      "metadata": {
        "id": "lMengFy_HJp2",
        "colab": {
          "base_uri": "https://localhost:8080/"
        },
        "outputId": "5c98e4b4-7e66-4300-b39d-a3db12acc36a"
      },
      "source": [
        "# predict probabilities for each word\n",
        "yhat = np.argmax(model.predict(encoded))\n",
        "yhat"
      ],
      "execution_count": null,
      "outputs": [
        {
          "output_type": "execute_result",
          "data": {
            "text/plain": [
              "22"
            ]
          },
          "metadata": {
            "tags": []
          },
          "execution_count": 15
        }
      ]
    },
    {
      "cell_type": "code",
      "metadata": {
        "colab": {
          "base_uri": "https://localhost:8080/"
        },
        "id": "SjwYFKFw7JIm",
        "outputId": "f405720e-d1c2-43d5-e135-6c612abe4647"
      },
      "source": [
        "# map predicted word index to word\n",
        "out_word = ''\n",
        "for word, index in tokenizer.word_index.items():\n",
        "  if index == yhat:\n",
        "    out_word = word\n",
        "    break\n",
        "\n",
        "print(out_word)"
      ],
      "execution_count": null,
      "outputs": [
        {
          "output_type": "stream",
          "text": [
            "work\n"
          ],
          "name": "stdout"
        }
      ]
    },
    {
      "cell_type": "code",
      "metadata": {
        "id": "nh5So8sW3CEn"
      },
      "source": [
        ""
      ],
      "execution_count": null,
      "outputs": []
    }
  ]
}